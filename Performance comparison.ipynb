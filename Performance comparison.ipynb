{
 "cells": [
  {
   "cell_type": "markdown",
   "metadata": {},
   "source": [
    "# Estimation of factor sensitivities\n",
    "\n",
    "We compare here model performances for the estimation of factor sensitivities. The models are:\n",
    "1. Constant OLS linear regression\n",
    "2. Rolling OLS linear regression\n",
    "3. Exponentially weighted OLS linear regression\n",
    "4. Sensitivities modeled as random walk, estimated with a Kalman filter (henceforth \"Kalman\")\n",
    "5. Sensitivities modeled as a local trend model, estimated with a Kalman filter (henceforth \"Kalman local trend\").\n",
    "\n",
    "Inspired by Bentz: Quantitative Equity Investment Management with Time-Varying Factor Sensitivities, in Dunis, Laws, Naim: Applied quantitative methods for trading and investment."
   ]
  },
  {
   "cell_type": "code",
   "execution_count": 133,
   "metadata": {},
   "outputs": [],
   "source": [
    "%matplotlib inline\n",
    "import importlib\n",
    "import itertools\n",
    "import pandas as pd\n",
    "import numpy as np\n",
    "import matplotlib.pyplot as plt\n",
    "from sklearn import linear_model\n",
    "from pyfinance.ols import OLS, RollingOLS, PandasRollingOLS\n",
    "import pykalman\n",
    "from pykalman import KalmanFilter\n",
    "from scipy.interpolate import splrep, splev\n",
    "import multiprocessing as mp\n",
    "from functools import partial\n",
    "import pickle\n",
    "import warnings\n",
    "warnings.filterwarnings('ignore')\n",
    "\n",
    "import functions_kalman as fk\n",
    "#importlib.reload(fk)"
   ]
  },
  {
   "cell_type": "code",
   "execution_count": 181,
   "metadata": {
    "collapsed": true
   },
   "outputs": [],
   "source": [
    "# Use precomputed data or recompute the data\n",
    "use_precomputed = True\n",
    "# Sample set to use if using precomputed data\n",
    "# sample_set = \"20190328-performance_record.pickle\" # Models optimized for weighted accuracy, return_noise = 1.0\n",
    "# sample_set = \"20190329-performance_record-largenoise.pickle\" # Models optimized for weighted accuracy, return_noise = 10.0\n",
    "sample_set = \"20190331-performance_record-opt_mse.pickle\" # Models optimized for MSE, return_noise = 1.0\n",
    "# sample_set = \"20190404-performance_record-opt_mse.pickle\" # Models optimized for MSE, return_noise = 1.0\n",
    "\n",
    "# The number of samples to generate if not using precomputed data\n",
    "num_samples = 10000 \n",
    "# The amplitude of the noise term in the factor model. The higher it is, the fainter the signal associated to the\n",
    "# associated to the factors.\n",
    "return_noise = 1.0\n",
    "# The number of time steps in our experiments\n",
    "timespan = 10000    \n",
    "# Sensitivity type\n",
    "# Random smooth creates random smooth sensitivities using spleens\n",
    "# Random walk creates random walk sensitivities \n",
    "# Various smooth creates sensitivities having interesting shapes: a steady trend, a sudden jump and an oscillation.\n",
    "sens_type = \"Random smooth\" # \"Random walk\" # \"Various smooth\" #\n",
    "\n",
    "# Any prediction in the burn period is ignored when evaluating the performance. This is useful for the exponentially \n",
    "# weighted regression or the Kalman filter, which need some time to produce reasonable predictions. The burn period \n",
    "# is measured in time steps.\n",
    "burn_period = 500"
   ]
  },
  {
   "cell_type": "code",
   "execution_count": 182,
   "metadata": {
    "collapsed": true
   },
   "outputs": [],
   "source": [
    "# Hyperparameters for the various models.\n",
    "if sens_type == \"Random walk\":\n",
    "    # Rolling window for ols regression\n",
    "    rolling_ols_window = 400\n",
    "    # Lambda parameter for exponentially weighted ols regression\n",
    "    exp_rolling_ols_lambda = 0.005\n",
    "    # Transition covariance/observatiaion covariance for the Kalman filter \n",
    "    kalman_covariance_ratio = 0.00002\n",
    "    # \"Momentum\" for the naive trend Kalman filter\n",
    "    nt_factor = 0.5\n",
    "    # Rolling window over which to compute the momentum\n",
    "    nt_window = 100\n",
    "    # Transition covariance/observation covariance for the stochastic trend Kalman filter.\n",
    "    stkf_covariance_ratio = 2e-10\n",
    "elif sens_type == \"Various smooth\":\n",
    "    rolling_ols_window = 200\n",
    "    exp_rolling_ols_lambda = 0.01\n",
    "    kalman_covariance_ratio = 0.0001\n",
    "    stkf_covariance_ratio = 1e-9\n",
    "    nt_factor = 0.5\n",
    "    nt_window = 100\n",
    "elif sens_type == \"Random smooth\":\n",
    "    if return_noise == 1.0:\n",
    "        \"\"\"\n",
    "        # Optimal parameters for weighted accuracy\n",
    "        rolling_ols_window = 100\n",
    "        exp_rolling_ols_lambda=0.02 #0.005\n",
    "        kalman_covariance_ratio = 2e-4\n",
    "        stkf_covariance_ratio = 5e-9\n",
    "        nt_factor = 0.5\n",
    "        nt_window = 100\n",
    "        \"\"\"\n",
    "        # Optimal parameters for MSE\n",
    "        rolling_ols_window = 100\n",
    "        exp_rolling_ols_lambda=0.02 #0.005\n",
    "        kalman_covariance_ratio = 5e-4\n",
    "        stkf_covariance_ratio = 1e-8\n",
    "        nt_factor = 0.5\n",
    "        nt_window = 100   \n",
    "    elif return_noise == 10.0:\n",
    "        # Optimal parameters for weighted accuracy\n",
    "        rolling_ols_window = 500\n",
    "        exp_rolling_ols_lambda = 0.002 #0.005\n",
    "        kalman_covariance_ratio = 1e-5\n",
    "        stkf_covariance_ratio = 5e-12\n",
    "        nt_factor = 0.5\n",
    "        nt_window = 500"
   ]
  },
  {
   "cell_type": "code",
   "execution_count": 183,
   "metadata": {
    "scrolled": true
   },
   "outputs": [],
   "source": [
    "if use_precomputed:\n",
    "    # Loads the precomputed samples\n",
    "    with open(sample_set, 'rb') as f:\n",
    "        ls = pickle.load(f)\n",
    "    performance_record_wacc = ls['Weighted accuracy']\n",
    "    performance_record_mse = ls['MSE'] \n",
    "else:    \n",
    "    # Computes the samples (warning, may take some time...)\n",
    "    algo_parameters = {'rolling_ols_window': rolling_ols_window,\n",
    "                       'exp_rolling_ols_lambda': exp_rolling_ols_lambda,\n",
    "                       'kalman_covariance_ratio': kalman_covariance_ratio,\n",
    "                       'stkf_covariance_ratio': stkf_covariance_ratio,\n",
    "                      }\n",
    "    performance_record_mse, performance_record_wacc = fk.get_performance_data(num_samples, \n",
    "                                                                              sens_type, \n",
    "                                                                              timespan, \n",
    "                                                                              return_noise,\n",
    "                                                                              burn_period,\n",
    "                                                                              algo_parameters)"
   ]
  },
  {
   "cell_type": "markdown",
   "metadata": {},
   "source": [
    "## Weighted accuracy"
   ]
  },
  {
   "cell_type": "code",
   "execution_count": 184,
   "metadata": {
    "scrolled": false
   },
   "outputs": [
    {
     "data": {
      "text/html": [
       "<div>\n",
       "<style scoped>\n",
       "    .dataframe tbody tr th:only-of-type {\n",
       "        vertical-align: middle;\n",
       "    }\n",
       "\n",
       "    .dataframe tbody tr th {\n",
       "        vertical-align: top;\n",
       "    }\n",
       "\n",
       "    .dataframe thead th {\n",
       "        text-align: right;\n",
       "    }\n",
       "</style>\n",
       "<table border=\"1\" class=\"dataframe\">\n",
       "  <thead>\n",
       "    <tr style=\"text-align: right;\">\n",
       "      <th></th>\n",
       "      <th>Constant OLS</th>\n",
       "      <th>Exponential rolling OLS</th>\n",
       "      <th>Kalman</th>\n",
       "      <th>Kalman local trend</th>\n",
       "      <th>Oracle</th>\n",
       "      <th>Rolling OLS</th>\n",
       "    </tr>\n",
       "  </thead>\n",
       "  <tbody>\n",
       "    <tr>\n",
       "      <th>count</th>\n",
       "      <td>10000.000000</td>\n",
       "      <td>10000.000000</td>\n",
       "      <td>10000.000000</td>\n",
       "      <td>10000.000000</td>\n",
       "      <td>10000.000000</td>\n",
       "      <td>10000.000000</td>\n",
       "    </tr>\n",
       "    <tr>\n",
       "      <th>mean</th>\n",
       "      <td>0.829536</td>\n",
       "      <td>1.375504</td>\n",
       "      <td>1.375129</td>\n",
       "      <td>1.376336</td>\n",
       "      <td>1.386528</td>\n",
       "      <td>1.375023</td>\n",
       "    </tr>\n",
       "    <tr>\n",
       "      <th>std</th>\n",
       "      <td>0.697193</td>\n",
       "      <td>0.858285</td>\n",
       "      <td>0.858841</td>\n",
       "      <td>0.858706</td>\n",
       "      <td>0.857622</td>\n",
       "      <td>0.858011</td>\n",
       "    </tr>\n",
       "    <tr>\n",
       "      <th>min</th>\n",
       "      <td>-0.142187</td>\n",
       "      <td>0.221277</td>\n",
       "      <td>0.221004</td>\n",
       "      <td>0.221659</td>\n",
       "      <td>0.259002</td>\n",
       "      <td>0.225446</td>\n",
       "    </tr>\n",
       "    <tr>\n",
       "      <th>25%</th>\n",
       "      <td>0.375252</td>\n",
       "      <td>0.754287</td>\n",
       "      <td>0.753254</td>\n",
       "      <td>0.755183</td>\n",
       "      <td>0.766102</td>\n",
       "      <td>0.754788</td>\n",
       "    </tr>\n",
       "    <tr>\n",
       "      <th>50%</th>\n",
       "      <td>0.592367</td>\n",
       "      <td>1.066036</td>\n",
       "      <td>1.065530</td>\n",
       "      <td>1.066792</td>\n",
       "      <td>1.076458</td>\n",
       "      <td>1.066556</td>\n",
       "    </tr>\n",
       "    <tr>\n",
       "      <th>75%</th>\n",
       "      <td>1.033106</td>\n",
       "      <td>1.754102</td>\n",
       "      <td>1.755000</td>\n",
       "      <td>1.755625</td>\n",
       "      <td>1.764166</td>\n",
       "      <td>1.753625</td>\n",
       "    </tr>\n",
       "    <tr>\n",
       "      <th>max</th>\n",
       "      <td>4.838214</td>\n",
       "      <td>5.357505</td>\n",
       "      <td>5.357572</td>\n",
       "      <td>5.360668</td>\n",
       "      <td>5.360524</td>\n",
       "      <td>5.356906</td>\n",
       "    </tr>\n",
       "  </tbody>\n",
       "</table>\n",
       "</div>"
      ],
      "text/plain": [
       "       Constant OLS  Exponential rolling OLS        Kalman  \\\n",
       "count  10000.000000             10000.000000  10000.000000   \n",
       "mean       0.829536                 1.375504      1.375129   \n",
       "std        0.697193                 0.858285      0.858841   \n",
       "min       -0.142187                 0.221277      0.221004   \n",
       "25%        0.375252                 0.754287      0.753254   \n",
       "50%        0.592367                 1.066036      1.065530   \n",
       "75%        1.033106                 1.754102      1.755000   \n",
       "max        4.838214                 5.357505      5.357572   \n",
       "\n",
       "       Kalman local trend        Oracle   Rolling OLS  \n",
       "count        10000.000000  10000.000000  10000.000000  \n",
       "mean             1.376336      1.386528      1.375023  \n",
       "std              0.858706      0.857622      0.858011  \n",
       "min              0.221659      0.259002      0.225446  \n",
       "25%              0.755183      0.766102      0.754788  \n",
       "50%              1.066792      1.076458      1.066556  \n",
       "75%              1.755625      1.764166      1.753625  \n",
       "max              5.360668      5.360524      5.356906  "
      ]
     },
     "execution_count": 184,
     "metadata": {},
     "output_type": "execute_result"
    }
   ],
   "source": [
    "# Statistics of the weighted accuracy by model\n",
    "performance_record_wacc.describe()"
   ]
  },
  {
   "cell_type": "code",
   "execution_count": 185,
   "metadata": {},
   "outputs": [
    {
     "data": {
      "image/png": "[encoded data removed]",
      "text/plain": [
       "<matplotlib.figure.Figure at 0x2344c6a0>"
      ]
     },
     "metadata": {},
     "output_type": "display_data"
    }
   ],
   "source": [
    "# Distribution of the weighted accuracies by model\n",
    "axes = performance_record_wacc.iloc[:,0:].hist(bins=200, sharex=True, sharey=True, figsize=(12,8))"
   ]
  },
  {
   "cell_type": "code",
   "execution_count": 186,
   "metadata": {},
   "outputs": [
    {
     "data": {
      "text/html": [
       "<div>\n",
       "<style scoped>\n",
       "    .dataframe tbody tr th:only-of-type {\n",
       "        vertical-align: middle;\n",
       "    }\n",
       "\n",
       "    .dataframe tbody tr th {\n",
       "        vertical-align: top;\n",
       "    }\n",
       "\n",
       "    .dataframe thead th {\n",
       "        text-align: right;\n",
       "    }\n",
       "</style>\n",
       "<table border=\"1\" class=\"dataframe\">\n",
       "  <thead>\n",
       "    <tr style=\"text-align: right;\">\n",
       "      <th></th>\n",
       "      <th>Weighted accuracy</th>\n",
       "      <th>t-test differential p-value</th>\n",
       "      <th>Wilcoxon test differential p-value</th>\n",
       "    </tr>\n",
       "  </thead>\n",
       "  <tbody>\n",
       "    <tr>\n",
       "      <th>Oracle</th>\n",
       "      <td>1.386528</td>\n",
       "      <td>0.000000e+00</td>\n",
       "      <td>0.000000e+00</td>\n",
       "    </tr>\n",
       "    <tr>\n",
       "      <th>Kalman local trend</th>\n",
       "      <td>1.376336</td>\n",
       "      <td>5.179057e-102</td>\n",
       "      <td>1.863135e-141</td>\n",
       "    </tr>\n",
       "    <tr>\n",
       "      <th>Exponential rolling OLS</th>\n",
       "      <td>1.375504</td>\n",
       "      <td>2.491883e-110</td>\n",
       "      <td>2.833864e-146</td>\n",
       "    </tr>\n",
       "    <tr>\n",
       "      <th>Kalman</th>\n",
       "      <td>1.375129</td>\n",
       "      <td>1.203498e-02</td>\n",
       "      <td>9.917602e-02</td>\n",
       "    </tr>\n",
       "    <tr>\n",
       "      <th>Rolling OLS</th>\n",
       "      <td>1.375023</td>\n",
       "      <td>0.000000e+00</td>\n",
       "      <td>0.000000e+00</td>\n",
       "    </tr>\n",
       "    <tr>\n",
       "      <th>Constant OLS</th>\n",
       "      <td>0.829536</td>\n",
       "      <td>NaN</td>\n",
       "      <td>NaN</td>\n",
       "    </tr>\n",
       "  </tbody>\n",
       "</table>\n",
       "</div>"
      ],
      "text/plain": [
       "                         Weighted accuracy  t-test differential p-value  \\\n",
       "Oracle                            1.386528                 0.000000e+00   \n",
       "Kalman local trend                1.376336                5.179057e-102   \n",
       "Exponential rolling OLS           1.375504                2.491883e-110   \n",
       "Kalman                            1.375129                 1.203498e-02   \n",
       "Rolling OLS                       1.375023                 0.000000e+00   \n",
       "Constant OLS                      0.829536                          NaN   \n",
       "\n",
       "                         Wilcoxon test differential p-value  \n",
       "Oracle                                         0.000000e+00  \n",
       "Kalman local trend                            1.863135e-141  \n",
       "Exponential rolling OLS                       2.833864e-146  \n",
       "Kalman                                         9.917602e-02  \n",
       "Rolling OLS                                    0.000000e+00  \n",
       "Constant OLS                                            NaN  "
      ]
     },
     "execution_count": 186,
     "metadata": {},
     "output_type": "execute_result"
    },
    {
     "data": {
      "image/png": "[encoded data removed]",
      "text/plain": [
       "<matplotlib.figure.Figure at 0x238d75c0>"
      ]
     },
     "metadata": {},
     "output_type": "display_data"
    }
   ],
   "source": [
    "# Performance record for weighted accuracy\n",
    "fk.performance_summary(performance_record_wacc, \"Weighted accuracy\")"
   ]
  },
  {
   "cell_type": "code",
   "execution_count": 187,
   "metadata": {},
   "outputs": [
    {
     "data": {
      "image/png": "[encoded data removed]",
      "text/plain": [
       "<matplotlib.figure.Figure at 0x2dd037b8>"
      ]
     },
     "metadata": {},
     "output_type": "display_data"
    }
   ],
   "source": [
    "# Distribution of the performance difference with respect to Oracle\n",
    "fk.plot_perf_differences(performance_record_wacc.iloc[:,1:], reference='Oracle')"
   ]
  },
  {
   "cell_type": "markdown",
   "metadata": {},
   "source": [
    "## Mean square error (MSE)"
   ]
  },
  {
   "cell_type": "code",
   "execution_count": 188,
   "metadata": {},
   "outputs": [
    {
     "data": {
      "text/html": [
       "<div>\n",
       "<style scoped>\n",
       "    .dataframe tbody tr th:only-of-type {\n",
       "        vertical-align: middle;\n",
       "    }\n",
       "\n",
       "    .dataframe tbody tr th {\n",
       "        vertical-align: top;\n",
       "    }\n",
       "\n",
       "    .dataframe thead th {\n",
       "        text-align: right;\n",
       "    }\n",
       "</style>\n",
       "<table border=\"1\" class=\"dataframe\">\n",
       "  <thead>\n",
       "    <tr style=\"text-align: right;\">\n",
       "      <th></th>\n",
       "      <th>Constant OLS</th>\n",
       "      <th>Exponential rolling OLS</th>\n",
       "      <th>Kalman</th>\n",
       "      <th>Kalman local trend</th>\n",
       "      <th>Oracle</th>\n",
       "      <th>Rolling OLS</th>\n",
       "    </tr>\n",
       "  </thead>\n",
       "  <tbody>\n",
       "    <tr>\n",
       "      <th>count</th>\n",
       "      <td>10000.000000</td>\n",
       "      <td>10000.000000</td>\n",
       "      <td>10000.000000</td>\n",
       "      <td>10000.000000</td>\n",
       "      <td>10000.000000</td>\n",
       "      <td>10000.000000</td>\n",
       "    </tr>\n",
       "    <tr>\n",
       "      <th>mean</th>\n",
       "      <td>4.418865</td>\n",
       "      <td>1.055441</td>\n",
       "      <td>1.055109</td>\n",
       "      <td>1.055380</td>\n",
       "      <td>1.000603</td>\n",
       "      <td>1.059443</td>\n",
       "    </tr>\n",
       "    <tr>\n",
       "      <th>std</th>\n",
       "      <td>4.175151</td>\n",
       "      <td>0.063558</td>\n",
       "      <td>0.057064</td>\n",
       "      <td>0.089309</td>\n",
       "      <td>0.015130</td>\n",
       "      <td>0.078244</td>\n",
       "    </tr>\n",
       "    <tr>\n",
       "      <th>min</th>\n",
       "      <td>1.047585</td>\n",
       "      <td>0.983166</td>\n",
       "      <td>0.985041</td>\n",
       "      <td>0.977927</td>\n",
       "      <td>0.944200</td>\n",
       "      <td>0.983556</td>\n",
       "    </tr>\n",
       "    <tr>\n",
       "      <th>25%</th>\n",
       "      <td>1.717446</td>\n",
       "      <td>1.028318</td>\n",
       "      <td>1.030480</td>\n",
       "      <td>1.025906</td>\n",
       "      <td>0.990156</td>\n",
       "      <td>1.029313</td>\n",
       "    </tr>\n",
       "    <tr>\n",
       "      <th>50%</th>\n",
       "      <td>2.634042</td>\n",
       "      <td>1.041901</td>\n",
       "      <td>1.043658</td>\n",
       "      <td>1.038235</td>\n",
       "      <td>1.000483</td>\n",
       "      <td>1.042915</td>\n",
       "    </tr>\n",
       "    <tr>\n",
       "      <th>75%</th>\n",
       "      <td>5.755506</td>\n",
       "      <td>1.059591</td>\n",
       "      <td>1.060527</td>\n",
       "      <td>1.053636</td>\n",
       "      <td>1.010731</td>\n",
       "      <td>1.060949</td>\n",
       "    </tr>\n",
       "    <tr>\n",
       "      <th>max</th>\n",
       "      <td>40.934158</td>\n",
       "      <td>2.222612</td>\n",
       "      <td>2.102877</td>\n",
       "      <td>2.757602</td>\n",
       "      <td>1.063673</td>\n",
       "      <td>2.537323</td>\n",
       "    </tr>\n",
       "  </tbody>\n",
       "</table>\n",
       "</div>"
      ],
      "text/plain": [
       "       Constant OLS  Exponential rolling OLS        Kalman  \\\n",
       "count  10000.000000             10000.000000  10000.000000   \n",
       "mean       4.418865                 1.055441      1.055109   \n",
       "std        4.175151                 0.063558      0.057064   \n",
       "min        1.047585                 0.983166      0.985041   \n",
       "25%        1.717446                 1.028318      1.030480   \n",
       "50%        2.634042                 1.041901      1.043658   \n",
       "75%        5.755506                 1.059591      1.060527   \n",
       "max       40.934158                 2.222612      2.102877   \n",
       "\n",
       "       Kalman local trend        Oracle   Rolling OLS  \n",
       "count        10000.000000  10000.000000  10000.000000  \n",
       "mean             1.055380      1.000603      1.059443  \n",
       "std              0.089309      0.015130      0.078244  \n",
       "min              0.977927      0.944200      0.983556  \n",
       "25%              1.025906      0.990156      1.029313  \n",
       "50%              1.038235      1.000483      1.042915  \n",
       "75%              1.053636      1.010731      1.060949  \n",
       "max              2.757602      1.063673      2.537323  "
      ]
     },
     "execution_count": 188,
     "metadata": {},
     "output_type": "execute_result"
    }
   ],
   "source": [
    "# Statistics of the MSE by model\n",
    "performance_record_mse.describe()"
   ]
  },
  {
   "cell_type": "code",
   "execution_count": 189,
   "metadata": {},
   "outputs": [
    {
     "data": {
      "text/html": [
       "<div>\n",
       "<style scoped>\n",
       "    .dataframe tbody tr th:only-of-type {\n",
       "        vertical-align: middle;\n",
       "    }\n",
       "\n",
       "    .dataframe tbody tr th {\n",
       "        vertical-align: top;\n",
       "    }\n",
       "\n",
       "    .dataframe thead th {\n",
       "        text-align: right;\n",
       "    }\n",
       "</style>\n",
       "<table border=\"1\" class=\"dataframe\">\n",
       "  <thead>\n",
       "    <tr style=\"text-align: right;\">\n",
       "      <th></th>\n",
       "      <th>MSE</th>\n",
       "      <th>t-test differential p-value</th>\n",
       "      <th>Wilcoxon test differential p-value</th>\n",
       "    </tr>\n",
       "  </thead>\n",
       "  <tbody>\n",
       "    <tr>\n",
       "      <th>Oracle</th>\n",
       "      <td>1.000603</td>\n",
       "      <td>0.000000e+00</td>\n",
       "      <td>0.0</td>\n",
       "    </tr>\n",
       "    <tr>\n",
       "      <th>Kalman</th>\n",
       "      <td>1.055109</td>\n",
       "      <td>4.539085e-01</td>\n",
       "      <td>0.0</td>\n",
       "    </tr>\n",
       "    <tr>\n",
       "      <th>Kalman local trend</th>\n",
       "      <td>1.055380</td>\n",
       "      <td>8.451574e-01</td>\n",
       "      <td>0.0</td>\n",
       "    </tr>\n",
       "    <tr>\n",
       "      <th>Exponential rolling OLS</th>\n",
       "      <td>1.055441</td>\n",
       "      <td>1.567261e-126</td>\n",
       "      <td>0.0</td>\n",
       "    </tr>\n",
       "    <tr>\n",
       "      <th>Rolling OLS</th>\n",
       "      <td>1.059443</td>\n",
       "      <td>0.000000e+00</td>\n",
       "      <td>0.0</td>\n",
       "    </tr>\n",
       "    <tr>\n",
       "      <th>Constant OLS</th>\n",
       "      <td>4.418865</td>\n",
       "      <td>NaN</td>\n",
       "      <td>NaN</td>\n",
       "    </tr>\n",
       "  </tbody>\n",
       "</table>\n",
       "</div>"
      ],
      "text/plain": [
       "                              MSE  t-test differential p-value  \\\n",
       "Oracle                   1.000603                 0.000000e+00   \n",
       "Kalman                   1.055109                 4.539085e-01   \n",
       "Kalman local trend       1.055380                 8.451574e-01   \n",
       "Exponential rolling OLS  1.055441                1.567261e-126   \n",
       "Rolling OLS              1.059443                 0.000000e+00   \n",
       "Constant OLS             4.418865                          NaN   \n",
       "\n",
       "                         Wilcoxon test differential p-value  \n",
       "Oracle                                                  0.0  \n",
       "Kalman                                                  0.0  \n",
       "Kalman local trend                                      0.0  \n",
       "Exponential rolling OLS                                 0.0  \n",
       "Rolling OLS                                             0.0  \n",
       "Constant OLS                                            NaN  "
      ]
     },
     "execution_count": 189,
     "metadata": {},
     "output_type": "execute_result"
    },
    {
     "data": {
      "image/png": "[encoded data removed]",
      "text/plain": [
       "<matplotlib.figure.Figure at 0x22d84b00>"
      ]
     },
     "metadata": {},
     "output_type": "display_data"
    }
   ],
   "source": [
    "fk.performance_summary(performance_record_mse, \"MSE\")"
   ]
  },
  {
   "cell_type": "code",
   "execution_count": 190,
   "metadata": {},
   "outputs": [
    {
     "data": {
      "text/plain": [
       "<matplotlib.text.Text at 0x2d82bd30>"
      ]
     },
     "execution_count": 190,
     "metadata": {},
     "output_type": "execute_result"
    },
    {
     "data": {
      "image/png": "[encoded data removed]",
      "text/plain": [
       "<matplotlib.figure.Figure at 0x2630f198>"
      ]
     },
     "metadata": {},
     "output_type": "display_data"
    }
   ],
   "source": [
    "# Distribution of the performance difference between \n",
    "importlib.reload(fk)\n",
    "fk.plot_perf_differences(performance_record_mse.loc[:,['Kalman local trend', 'Exponential rolling OLS']], reference='Kalman local trend')\n",
    "plt.gca().set_title('MSE difference: Exponential rolling OLS vs Kalman local trend')"
   ]
  },
  {
   "cell_type": "markdown",
   "metadata": {},
   "source": [
    "## Save data"
   ]
  },
  {
   "cell_type": "code",
   "execution_count": null,
   "metadata": {
    "collapsed": true
   },
   "outputs": [],
   "source": [
    "import pickle\n",
    "with open('20190404-performance_record-opt_mse.pickle', 'wb') as f:\n",
    "    pickle.dump({\"Weighted accuracy\": performance_record_wacc, \"MSE\": performance_record_mse}, f)"
   ]
  },
  {
   "cell_type": "code",
   "execution_count": null,
   "metadata": {
    "collapsed": true
   },
   "outputs": [],
   "source": [
    "with open('filename.pickle', 'rb') as f:\n",
    "    ls = pickle.load(f)\n",
    "performance_record_wacc = ls['Weighted accuracy']\n",
    "performance_record_mse = ls['MSE'] "
   ]
  },
  {
   "cell_type": "code",
   "execution_count": null,
   "metadata": {
    "collapsed": true
   },
   "outputs": [],
   "source": []
  }
 ],
 "metadata": {
  "kernelspec": {
   "display_name": "Python [conda env:python3]",
   "language": "python",
   "name": "conda-env-python3-py"
  },
  "language_info": {
   "codemirror_mode": {
    "name": "ipython",
    "version": 3
   },
   "file_extension": ".py",
   "mimetype": "text/x-python",
   "name": "python",
   "nbconvert_exporter": "python",
   "pygments_lexer": "ipython3",
   "version": "3.6.1"
  }
 },
 "nbformat": 4,
 "nbformat_minor": 2
}
