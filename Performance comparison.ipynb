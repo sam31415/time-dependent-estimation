{
 "cells": [
  {
   "cell_type": "markdown",
   "metadata": {},
   "source": [
    "# Estimation of factor sensitivities\n",
    "\n",
    "We compare here model performances for the estimation of factor sensitivities. The models are:\n",
    "1. Constant OLS linear regression\n",
    "2. Rolling OLS linear regression\n",
    "3. Exponentially weighted OLS linear regression\n",
    "4. Sensitivities modeled as random walk, estimated with a Kalman filter (henceforth \"Kalman\")\n",
    "5. Sensitivities modeled as a local trend model, estimated with a Kalman filter (henceforth \"Kalman local trend\").\n",
    "\n",
    "Inspired by Bentz: Quantitative Equity Investment Management with Time-Varying Factor Sensitivities, in Dunis, Laws, Naim: Applied quantitative methods for trading and investment."
   ]
  },
  {
   "cell_type": "code",
   "execution_count": 1,
   "metadata": {
    "collapsed": true
   },
   "outputs": [],
   "source": [
    "%matplotlib inline\n",
    "import importlib\n",
    "import itertools\n",
    "import pandas as pd\n",
    "import numpy as np\n",
    "import matplotlib.pyplot as plt\n",
    "from sklearn import linear_model\n",
    "from pyfinance.ols import OLS, RollingOLS, PandasRollingOLS\n",
    "import pykalman\n",
    "from pykalman import KalmanFilter\n",
    "from scipy.interpolate import splrep, splev\n",
    "import multiprocessing as mp\n",
    "from functools import partial\n",
    "import pickle\n",
    "import warnings\n",
    "warnings.filterwarnings('ignore')\n",
    "\n",
    "import functions_kalman as fk\n",
    "#importlib.reload(fk)"
   ]
  },
  {
   "cell_type": "code",
   "execution_count": 2,
   "metadata": {
    "collapsed": true
   },
   "outputs": [],
   "source": [
    "# Use precomputed data or recompute the data\n",
    "use_precomputed = True\n",
    "# Sample set to use if using precomputed data\n",
    "sample_set = \"20190328-performance_record.pickle\" # Models optimized for weighted accuracy, return_noise = 1.0\n",
    "# sample_set = \"20190329-performance_record-largenoise.pickle\" # Models optimized for weighted accuracy, return_noise = 10.0\n",
    "# sample_set = \"20190331-performance_record-opt_mse.pickle\" # Models optimized for MSE, return_noise = 1.0\n",
    "# sample_set = \"20190404-performance_record-opt_mse.pickle\" # Models optimized for MSE, return_noise = 1.0\n",
    "\n",
    "# The number of samples to generate if not using precomputed data\n",
    "num_samples = 10000 \n",
    "# The amplitude of the noise term in the factor model. The higher it is, the fainter the signal associated to the\n",
    "# associated to the factors.\n",
    "return_noise = 1.0\n",
    "# The number of time steps in our experiments\n",
    "timespan = 10000    \n",
    "# Sensitivity type\n",
    "# Random smooth creates random smooth sensitivities using splines\n",
    "# Random walk creates random walk sensitivities \n",
    "# Various smooth creates sensitivities having interesting shapes: a steady trend, a sudden jump and an oscillation.\n",
    "sens_type = \"Random smooth\" # \"Random walk\" # \"Various smooth\" #\n",
    "\n",
    "# Any prediction in the burn period is ignored when evaluating the performance. This is useful for the exponentially \n",
    "# weighted regression or the Kalman filter, which need some time to produce reasonable predictions. The burn period \n",
    "# is measured in time steps.\n",
    "burn_period = 500"
   ]
  },
  {
   "cell_type": "code",
   "execution_count": 3,
   "metadata": {
    "collapsed": true
   },
   "outputs": [],
   "source": [
    "# Hyperparameters for the various models.\n",
    "if sens_type == \"Random walk\":\n",
    "    # Rolling window for ols regression\n",
    "    rolling_ols_window = 400\n",
    "    # Lambda parameter for exponentially weighted ols regression\n",
    "    exp_rolling_ols_lambda = 0.005\n",
    "    # Transition covariance/observatiaion covariance for the Kalman filter \n",
    "    kalman_covariance_ratio = 0.00002\n",
    "    # \"Momentum\" for the naive trend Kalman filter\n",
    "    nt_factor = 0.5\n",
    "    # Rolling window over which to compute the momentum\n",
    "    nt_window = 100\n",
    "    # Transition covariance/observation covariance for the stochastic trend Kalman filter.\n",
    "    stkf_covariance_ratio = 2e-10\n",
    "elif sens_type == \"Various smooth\":\n",
    "    rolling_ols_window = 200\n",
    "    exp_rolling_ols_lambda = 0.01\n",
    "    kalman_covariance_ratio = 0.0001\n",
    "    stkf_covariance_ratio = 1e-9\n",
    "    nt_factor = 0.5\n",
    "    nt_window = 100\n",
    "elif sens_type == \"Random smooth\":\n",
    "    if return_noise == 1.0:\n",
    "        \"\"\"\n",
    "        # Optimal parameters for weighted accuracy\n",
    "        rolling_ols_window = 100\n",
    "        exp_rolling_ols_lambda=0.02 #0.005\n",
    "        kalman_covariance_ratio = 2e-4\n",
    "        stkf_covariance_ratio = 5e-9\n",
    "        nt_factor = 0.5\n",
    "        nt_window = 100\n",
    "        \"\"\"\n",
    "        # Optimal parameters for MSE\n",
    "        rolling_ols_window = 100\n",
    "        exp_rolling_ols_lambda=0.02 #0.005\n",
    "        kalman_covariance_ratio = 5e-4\n",
    "        stkf_covariance_ratio = 1e-8\n",
    "        nt_factor = 0.5\n",
    "        nt_window = 100   \n",
    "    elif return_noise == 10.0:\n",
    "        # Optimal parameters for weighted accuracy\n",
    "        rolling_ols_window = 500\n",
    "        exp_rolling_ols_lambda = 0.002 #0.005\n",
    "        kalman_covariance_ratio = 1e-5\n",
    "        stkf_covariance_ratio = 5e-12\n",
    "        nt_factor = 0.5\n",
    "        nt_window = 500"
   ]
  },
  {
   "cell_type": "code",
   "execution_count": 4,
   "metadata": {
    "collapsed": true,
    "scrolled": true
   },
   "outputs": [],
   "source": [
    "if use_precomputed:\n",
    "    # Loads the precomputed samples\n",
    "    with open(sample_set, 'rb') as f:\n",
    "        ls = pickle.load(f)\n",
    "    performance_record_wacc = ls['Weighted accuracy']\n",
    "    performance_record_mse = ls['MSE'] \n",
    "else:    \n",
    "    # Computes the samples (warning, may take some time...)\n",
    "    algo_parameters = {'rolling_ols_window': rolling_ols_window,\n",
    "                       'exp_rolling_ols_lambda': exp_rolling_ols_lambda,\n",
    "                       'kalman_covariance_ratio': kalman_covariance_ratio,\n",
    "                       'stkf_covariance_ratio': stkf_covariance_ratio,\n",
    "                      }\n",
    "    performance_record_mse, performance_record_wacc = fk.get_performance_data(num_samples, \n",
    "                                                                              sens_type, \n",
    "                                                                              timespan, \n",
    "                                                                              return_noise,\n",
    "                                                                              burn_period,\n",
    "                                                                              algo_parameters)"
   ]
  },
  {
   "cell_type": "markdown",
   "metadata": {},
   "source": [
    "## Weighted accuracy"
   ]
  },
  {
   "cell_type": "code",
   "execution_count": 5,
   "metadata": {
    "scrolled": false
   },
   "outputs": [
    {
     "data": {
      "text/html": [
       "<div>\n",
       "<style scoped>\n",
       "    .dataframe tbody tr th:only-of-type {\n",
       "        vertical-align: middle;\n",
       "    }\n",
       "\n",
       "    .dataframe tbody tr th {\n",
       "        vertical-align: top;\n",
       "    }\n",
       "\n",
       "    .dataframe thead th {\n",
       "        text-align: right;\n",
       "    }\n",
       "</style>\n",
       "<table border=\"1\" class=\"dataframe\">\n",
       "  <thead>\n",
       "    <tr style=\"text-align: right;\">\n",
       "      <th></th>\n",
       "      <th>Constant OLS</th>\n",
       "      <th>Exponential rolling OLS</th>\n",
       "      <th>Kalman</th>\n",
       "      <th>Kalman local trend</th>\n",
       "      <th>Oracle</th>\n",
       "      <th>Rolling OLS</th>\n",
       "    </tr>\n",
       "  </thead>\n",
       "  <tbody>\n",
       "    <tr>\n",
       "      <th>count</th>\n",
       "      <td>10000.000000</td>\n",
       "      <td>10000.000000</td>\n",
       "      <td>10000.000000</td>\n",
       "      <td>10000.000000</td>\n",
       "      <td>10000.000000</td>\n",
       "      <td>10000.000000</td>\n",
       "    </tr>\n",
       "    <tr>\n",
       "      <th>mean</th>\n",
       "      <td>0.842299</td>\n",
       "      <td>1.387171</td>\n",
       "      <td>1.387330</td>\n",
       "      <td>1.388534</td>\n",
       "      <td>1.398412</td>\n",
       "      <td>1.386632</td>\n",
       "    </tr>\n",
       "    <tr>\n",
       "      <th>std</th>\n",
       "      <td>0.710936</td>\n",
       "      <td>0.863591</td>\n",
       "      <td>0.861033</td>\n",
       "      <td>0.862622</td>\n",
       "      <td>0.863183</td>\n",
       "      <td>0.863134</td>\n",
       "    </tr>\n",
       "    <tr>\n",
       "      <th>min</th>\n",
       "      <td>-0.186458</td>\n",
       "      <td>0.220251</td>\n",
       "      <td>0.222464</td>\n",
       "      <td>0.233358</td>\n",
       "      <td>0.250227</td>\n",
       "      <td>0.222210</td>\n",
       "    </tr>\n",
       "    <tr>\n",
       "      <th>25%</th>\n",
       "      <td>0.378025</td>\n",
       "      <td>0.756750</td>\n",
       "      <td>0.759075</td>\n",
       "      <td>0.758958</td>\n",
       "      <td>0.767967</td>\n",
       "      <td>0.756450</td>\n",
       "    </tr>\n",
       "    <tr>\n",
       "      <th>50%</th>\n",
       "      <td>0.595751</td>\n",
       "      <td>1.079003</td>\n",
       "      <td>1.078607</td>\n",
       "      <td>1.080382</td>\n",
       "      <td>1.087452</td>\n",
       "      <td>1.077730</td>\n",
       "    </tr>\n",
       "    <tr>\n",
       "      <th>75%</th>\n",
       "      <td>1.054278</td>\n",
       "      <td>1.776194</td>\n",
       "      <td>1.776057</td>\n",
       "      <td>1.778241</td>\n",
       "      <td>1.786829</td>\n",
       "      <td>1.774409</td>\n",
       "    </tr>\n",
       "    <tr>\n",
       "      <th>max</th>\n",
       "      <td>4.642414</td>\n",
       "      <td>6.100144</td>\n",
       "      <td>6.094764</td>\n",
       "      <td>6.101532</td>\n",
       "      <td>6.105051</td>\n",
       "      <td>6.098707</td>\n",
       "    </tr>\n",
       "  </tbody>\n",
       "</table>\n",
       "</div>"
      ],
      "text/plain": [
       "       Constant OLS  Exponential rolling OLS        Kalman  \\\n",
       "count  10000.000000             10000.000000  10000.000000   \n",
       "mean       0.842299                 1.387171      1.387330   \n",
       "std        0.710936                 0.863591      0.861033   \n",
       "min       -0.186458                 0.220251      0.222464   \n",
       "25%        0.378025                 0.756750      0.759075   \n",
       "50%        0.595751                 1.079003      1.078607   \n",
       "75%        1.054278                 1.776194      1.776057   \n",
       "max        4.642414                 6.100144      6.094764   \n",
       "\n",
       "       Kalman local trend        Oracle   Rolling OLS  \n",
       "count        10000.000000  10000.000000  10000.000000  \n",
       "mean             1.388534      1.398412      1.386632  \n",
       "std              0.862622      0.863183      0.863134  \n",
       "min              0.233358      0.250227      0.222210  \n",
       "25%              0.758958      0.767967      0.756450  \n",
       "50%              1.080382      1.087452      1.077730  \n",
       "75%              1.778241      1.786829      1.774409  \n",
       "max              6.101532      6.105051      6.098707  "
      ]
     },
     "execution_count": 5,
     "metadata": {},
     "output_type": "execute_result"
    }
   ],
   "source": [
    "# Statistics of the weighted accuracy by model\n",
    "performance_record_wacc.describe()"
   ]
  },
  {
   "cell_type": "code",
   "execution_count": 6,
   "metadata": {},
   "outputs": [
    {
     "data": {
      "image/png": "[encoded data removed]",
      "text/plain": [
       "<matplotlib.figure.Figure at 0x4f144e0>"
      ]
     },
     "metadata": {},
     "output_type": "display_data"
    }
   ],
   "source": [
    "# Distribution of the weighted accuracies by model\n",
    "axes = performance_record_wacc.iloc[:,0:].hist(bins=200, sharex=True, sharey=True, figsize=(12,8))"
   ]
  },
  {
   "cell_type": "code",
   "execution_count": 7,
   "metadata": {},
   "outputs": [
    {
     "data": {
      "text/html": [
       "<div>\n",
       "<style scoped>\n",
       "    .dataframe tbody tr th:only-of-type {\n",
       "        vertical-align: middle;\n",
       "    }\n",
       "\n",
       "    .dataframe tbody tr th {\n",
       "        vertical-align: top;\n",
       "    }\n",
       "\n",
       "    .dataframe thead th {\n",
       "        text-align: right;\n",
       "    }\n",
       "</style>\n",
       "<table border=\"1\" class=\"dataframe\">\n",
       "  <thead>\n",
       "    <tr style=\"text-align: right;\">\n",
       "      <th></th>\n",
       "      <th>Weighted accuracy</th>\n",
       "      <th>t-test differential p-value</th>\n",
       "      <th>Wilcoxon test differential p-value</th>\n",
       "    </tr>\n",
       "  </thead>\n",
       "  <tbody>\n",
       "    <tr>\n",
       "      <th>Oracle</th>\n",
       "      <td>1.398412</td>\n",
       "      <td>0.000000e+00</td>\n",
       "      <td>0.000000e+00</td>\n",
       "    </tr>\n",
       "    <tr>\n",
       "      <th>Kalman local trend</th>\n",
       "      <td>1.388534</td>\n",
       "      <td>6.022165e-144</td>\n",
       "      <td>1.170220e-128</td>\n",
       "    </tr>\n",
       "    <tr>\n",
       "      <th>Kalman</th>\n",
       "      <td>1.387330</td>\n",
       "      <td>1.038552e-03</td>\n",
       "      <td>2.731356e-73</td>\n",
       "    </tr>\n",
       "    <tr>\n",
       "      <th>Exponential rolling OLS</th>\n",
       "      <td>1.387171</td>\n",
       "      <td>1.092900e-41</td>\n",
       "      <td>8.478687e-29</td>\n",
       "    </tr>\n",
       "    <tr>\n",
       "      <th>Rolling OLS</th>\n",
       "      <td>1.386632</td>\n",
       "      <td>0.000000e+00</td>\n",
       "      <td>0.000000e+00</td>\n",
       "    </tr>\n",
       "    <tr>\n",
       "      <th>Constant OLS</th>\n",
       "      <td>0.842299</td>\n",
       "      <td>NaN</td>\n",
       "      <td>NaN</td>\n",
       "    </tr>\n",
       "  </tbody>\n",
       "</table>\n",
       "</div>"
      ],
      "text/plain": [
       "                         Weighted accuracy  t-test differential p-value  \\\n",
       "Oracle                            1.398412                 0.000000e+00   \n",
       "Kalman local trend                1.388534                6.022165e-144   \n",
       "Kalman                            1.387330                 1.038552e-03   \n",
       "Exponential rolling OLS           1.387171                 1.092900e-41   \n",
       "Rolling OLS                       1.386632                 0.000000e+00   \n",
       "Constant OLS                      0.842299                          NaN   \n",
       "\n",
       "                         Wilcoxon test differential p-value  \n",
       "Oracle                                         0.000000e+00  \n",
       "Kalman local trend                            1.170220e-128  \n",
       "Kalman                                         2.731356e-73  \n",
       "Exponential rolling OLS                        8.478687e-29  \n",
       "Rolling OLS                                    0.000000e+00  \n",
       "Constant OLS                                            NaN  "
      ]
     },
     "execution_count": 7,
     "metadata": {},
     "output_type": "execute_result"
    },
    {
     "data": {
      "image/png": "[encoded data removed]",
      "text/plain": [
       "<matplotlib.figure.Figure at 0x1be3bdd8>"
      ]
     },
     "metadata": {},
     "output_type": "display_data"
    }
   ],
   "source": [
    "# Performance record for weighted accuracy\n",
    "fk.performance_summary(performance_record_wacc, \"Weighted accuracy\")"
   ]
  },
  {
   "cell_type": "code",
   "execution_count": 8,
   "metadata": {},
   "outputs": [
    {
     "data": {
      "image/png": "[encoded data removed]",
      "text/plain": [
       "<matplotlib.figure.Figure at 0x1c92d550>"
      ]
     },
     "metadata": {},
     "output_type": "display_data"
    }
   ],
   "source": [
    "# Distribution of the performance difference with respect to Oracle\n",
    "fk.plot_perf_differences(performance_record_wacc.iloc[:,1:], reference='Oracle')"
   ]
  },
  {
   "cell_type": "markdown",
   "metadata": {},
   "source": [
    "## Mean square error (MSE)"
   ]
  },
  {
   "cell_type": "code",
   "execution_count": 9,
   "metadata": {},
   "outputs": [
    {
     "data": {
      "text/html": [
       "<div>\n",
       "<style scoped>\n",
       "    .dataframe tbody tr th:only-of-type {\n",
       "        vertical-align: middle;\n",
       "    }\n",
       "\n",
       "    .dataframe tbody tr th {\n",
       "        vertical-align: top;\n",
       "    }\n",
       "\n",
       "    .dataframe thead th {\n",
       "        text-align: right;\n",
       "    }\n",
       "</style>\n",
       "<table border=\"1\" class=\"dataframe\">\n",
       "  <thead>\n",
       "    <tr style=\"text-align: right;\">\n",
       "      <th></th>\n",
       "      <th>Constant OLS</th>\n",
       "      <th>Exponential rolling OLS</th>\n",
       "      <th>Kalman</th>\n",
       "      <th>Kalman local trend</th>\n",
       "      <th>Oracle</th>\n",
       "      <th>Rolling OLS</th>\n",
       "    </tr>\n",
       "  </thead>\n",
       "  <tbody>\n",
       "    <tr>\n",
       "      <th>count</th>\n",
       "      <td>10000.000000</td>\n",
       "      <td>10000.000000</td>\n",
       "      <td>10000.000000</td>\n",
       "      <td>10000.000000</td>\n",
       "      <td>10000.000000</td>\n",
       "      <td>10000.000000</td>\n",
       "    </tr>\n",
       "    <tr>\n",
       "      <th>mean</th>\n",
       "      <td>4.451743</td>\n",
       "      <td>1.057359</td>\n",
       "      <td>1.066853</td>\n",
       "      <td>1.061641</td>\n",
       "      <td>1.000755</td>\n",
       "      <td>1.061905</td>\n",
       "    </tr>\n",
       "    <tr>\n",
       "      <th>std</th>\n",
       "      <td>4.200448</td>\n",
       "      <td>0.071763</td>\n",
       "      <td>0.110514</td>\n",
       "      <td>0.125277</td>\n",
       "      <td>0.015136</td>\n",
       "      <td>0.089707</td>\n",
       "    </tr>\n",
       "    <tr>\n",
       "      <th>min</th>\n",
       "      <td>1.026934</td>\n",
       "      <td>0.981191</td>\n",
       "      <td>0.974644</td>\n",
       "      <td>0.971897</td>\n",
       "      <td>0.944278</td>\n",
       "      <td>0.980508</td>\n",
       "    </tr>\n",
       "    <tr>\n",
       "      <th>25%</th>\n",
       "      <td>1.738782</td>\n",
       "      <td>1.028959</td>\n",
       "      <td>1.023368</td>\n",
       "      <td>1.022245</td>\n",
       "      <td>0.990480</td>\n",
       "      <td>1.029979</td>\n",
       "    </tr>\n",
       "    <tr>\n",
       "      <th>50%</th>\n",
       "      <td>2.684542</td>\n",
       "      <td>1.042324</td>\n",
       "      <td>1.038387</td>\n",
       "      <td>1.035059</td>\n",
       "      <td>1.000681</td>\n",
       "      <td>1.043168</td>\n",
       "    </tr>\n",
       "    <tr>\n",
       "      <th>75%</th>\n",
       "      <td>5.822663</td>\n",
       "      <td>1.060609</td>\n",
       "      <td>1.066183</td>\n",
       "      <td>1.052429</td>\n",
       "      <td>1.010673</td>\n",
       "      <td>1.061900</td>\n",
       "    </tr>\n",
       "    <tr>\n",
       "      <th>max</th>\n",
       "      <td>47.176556</td>\n",
       "      <td>2.668182</td>\n",
       "      <td>3.212178</td>\n",
       "      <td>3.740545</td>\n",
       "      <td>1.072980</td>\n",
       "      <td>3.282942</td>\n",
       "    </tr>\n",
       "  </tbody>\n",
       "</table>\n",
       "</div>"
      ],
      "text/plain": [
       "       Constant OLS  Exponential rolling OLS        Kalman  \\\n",
       "count  10000.000000             10000.000000  10000.000000   \n",
       "mean       4.451743                 1.057359      1.066853   \n",
       "std        4.200448                 0.071763      0.110514   \n",
       "min        1.026934                 0.981191      0.974644   \n",
       "25%        1.738782                 1.028959      1.023368   \n",
       "50%        2.684542                 1.042324      1.038387   \n",
       "75%        5.822663                 1.060609      1.066183   \n",
       "max       47.176556                 2.668182      3.212178   \n",
       "\n",
       "       Kalman local trend        Oracle   Rolling OLS  \n",
       "count        10000.000000  10000.000000  10000.000000  \n",
       "mean             1.061641      1.000755      1.061905  \n",
       "std              0.125277      0.015136      0.089707  \n",
       "min              0.971897      0.944278      0.980508  \n",
       "25%              1.022245      0.990480      1.029979  \n",
       "50%              1.035059      1.000681      1.043168  \n",
       "75%              1.052429      1.010673      1.061900  \n",
       "max              3.740545      1.072980      3.282942  "
      ]
     },
     "execution_count": 9,
     "metadata": {},
     "output_type": "execute_result"
    }
   ],
   "source": [
    "# Statistics of the MSE by model\n",
    "performance_record_mse.describe()"
   ]
  },
  {
   "cell_type": "code",
   "execution_count": 10,
   "metadata": {},
   "outputs": [
    {
     "data": {
      "text/html": [
       "<div>\n",
       "<style scoped>\n",
       "    .dataframe tbody tr th:only-of-type {\n",
       "        vertical-align: middle;\n",
       "    }\n",
       "\n",
       "    .dataframe tbody tr th {\n",
       "        vertical-align: top;\n",
       "    }\n",
       "\n",
       "    .dataframe thead th {\n",
       "        text-align: right;\n",
       "    }\n",
       "</style>\n",
       "<table border=\"1\" class=\"dataframe\">\n",
       "  <thead>\n",
       "    <tr style=\"text-align: right;\">\n",
       "      <th></th>\n",
       "      <th>MSE</th>\n",
       "      <th>t-test differential p-value</th>\n",
       "      <th>Wilcoxon test differential p-value</th>\n",
       "    </tr>\n",
       "  </thead>\n",
       "  <tbody>\n",
       "    <tr>\n",
       "      <th>Oracle</th>\n",
       "      <td>1.000755</td>\n",
       "      <td>0.000000e+00</td>\n",
       "      <td>0.000000e+00</td>\n",
       "    </tr>\n",
       "    <tr>\n",
       "      <th>Exponential rolling OLS</th>\n",
       "      <td>1.057359</td>\n",
       "      <td>5.073933e-14</td>\n",
       "      <td>0.000000e+00</td>\n",
       "    </tr>\n",
       "    <tr>\n",
       "      <th>Kalman local trend</th>\n",
       "      <td>1.061641</td>\n",
       "      <td>5.127862e-01</td>\n",
       "      <td>0.000000e+00</td>\n",
       "    </tr>\n",
       "    <tr>\n",
       "      <th>Rolling OLS</th>\n",
       "      <td>1.061905</td>\n",
       "      <td>4.478062e-68</td>\n",
       "      <td>6.110780e-19</td>\n",
       "    </tr>\n",
       "    <tr>\n",
       "      <th>Kalman</th>\n",
       "      <td>1.066853</td>\n",
       "      <td>0.000000e+00</td>\n",
       "      <td>0.000000e+00</td>\n",
       "    </tr>\n",
       "    <tr>\n",
       "      <th>Constant OLS</th>\n",
       "      <td>4.451743</td>\n",
       "      <td>NaN</td>\n",
       "      <td>NaN</td>\n",
       "    </tr>\n",
       "  </tbody>\n",
       "</table>\n",
       "</div>"
      ],
      "text/plain": [
       "                              MSE  t-test differential p-value  \\\n",
       "Oracle                   1.000755                 0.000000e+00   \n",
       "Exponential rolling OLS  1.057359                 5.073933e-14   \n",
       "Kalman local trend       1.061641                 5.127862e-01   \n",
       "Rolling OLS              1.061905                 4.478062e-68   \n",
       "Kalman                   1.066853                 0.000000e+00   \n",
       "Constant OLS             4.451743                          NaN   \n",
       "\n",
       "                         Wilcoxon test differential p-value  \n",
       "Oracle                                         0.000000e+00  \n",
       "Exponential rolling OLS                        0.000000e+00  \n",
       "Kalman local trend                             0.000000e+00  \n",
       "Rolling OLS                                    6.110780e-19  \n",
       "Kalman                                         0.000000e+00  \n",
       "Constant OLS                                            NaN  "
      ]
     },
     "execution_count": 10,
     "metadata": {},
     "output_type": "execute_result"
    },
    {
     "data": {
      "image/png": "[encoded data removed]",
      "text/plain": [
       "<matplotlib.figure.Figure at 0x1ff96320>"
      ]
     },
     "metadata": {},
     "output_type": "display_data"
    }
   ],
   "source": [
    "fk.performance_summary(performance_record_mse, \"MSE\")"
   ]
  },
  {
   "cell_type": "code",
   "execution_count": 11,
   "metadata": {},
   "outputs": [
    {
     "data": {
      "text/plain": [
       "<matplotlib.text.Text at 0x1ff9d048>"
      ]
     },
     "execution_count": 11,
     "metadata": {},
     "output_type": "execute_result"
    },
    {
     "data": {
      "image/png": "[encoded data removed]",
      "text/plain": [
       "<matplotlib.figure.Figure at 0x1f5d5e48>"
      ]
     },
     "metadata": {},
     "output_type": "display_data"
    }
   ],
   "source": [
    "# Distribution of the performance difference between \n",
    "importlib.reload(fk)\n",
    "fk.plot_perf_differences(performance_record_mse.loc[:,['Kalman local trend', 'Exponential rolling OLS']], reference='Kalman local trend')\n",
    "plt.gca().set_title('MSE difference: Exponential rolling OLS vs Kalman local trend')"
   ]
  },
  {
   "cell_type": "markdown",
   "metadata": {},
   "source": [
    "## Save data"
   ]
  },
  {
   "cell_type": "code",
   "execution_count": null,
   "metadata": {
    "collapsed": true
   },
   "outputs": [],
   "source": [
    "import pickle\n",
    "with open('20190404-performance_record-opt_mse.pickle', 'wb') as f:\n",
    "    pickle.dump({\"Weighted accuracy\": performance_record_wacc, \"MSE\": performance_record_mse}, f)"
   ]
  },
  {
   "cell_type": "code",
   "execution_count": null,
   "metadata": {
    "collapsed": true
   },
   "outputs": [],
   "source": [
    "with open('filename.pickle', 'rb') as f:\n",
    "    ls = pickle.load(f)\n",
    "performance_record_wacc = ls['Weighted accuracy']\n",
    "performance_record_mse = ls['MSE'] "
   ]
  },
  {
   "cell_type": "code",
   "execution_count": null,
   "metadata": {
    "collapsed": true
   },
   "outputs": [],
   "source": []
  }
 ],
 "metadata": {
  "kernelspec": {
   "display_name": "Python [conda env:python3]",
   "language": "python",
   "name": "conda-env-python3-py"
  },
  "language_info": {
   "codemirror_mode": {
    "name": "ipython",
    "version": 3
   },
   "file_extension": ".py",
   "mimetype": "text/x-python",
   "name": "python",
   "nbconvert_exporter": "python",
   "pygments_lexer": "ipython3",
   "version": "3.6.1"
  }
 },
 "nbformat": 4,
 "nbformat_minor": 2
}
