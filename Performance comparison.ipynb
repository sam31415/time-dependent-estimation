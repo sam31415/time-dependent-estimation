{
 "cells": [
  {
   "cell_type": "markdown",
   "metadata": {},
   "source": [
    "# Estimation of factor sensitivities\n",
    "\n",
    "We compare here model performances for the estimation of factor sensitivities. The models are:\n",
    "1. Constant OLS linear regression\n",
    "2. Rolling OLS linear regression\n",
    "3. Exponentially weighted OLS linear regression\n",
    "4. Sensitivities modeled as random walk, estimated with a Kalman filter (henceforth \"Kalman\")\n",
    "5. Sensitivities modeled as a local trend model, estimated with a Kalman filter (henceforth \"Kalman local trend\").\n",
    "\n",
    "Inspired by Bentz: Quantitative Equity Investment Management with Time-Varying Factor Sensitivities, in Dunis, Laws, Naim: Applied quantitative methods for trading and investment."
   ]
  },
  {
   "cell_type": "code",
   "execution_count": 31,
   "metadata": {},
   "outputs": [
    {
     "data": {
      "text/plain": [
       "<module 'functions_kalman' from 'D:\\\\Documents\\\\Travail\\\\Programming\\\\Python\\\\201904-ExposéKalman\\\\functions_kalman.py'>"
      ]
     },
     "execution_count": 31,
     "metadata": {},
     "output_type": "execute_result"
    }
   ],
   "source": [
    "%matplotlib inline\n",
    "import importlib\n",
    "import itertools\n",
    "import pandas as pd\n",
    "import numpy as np\n",
    "import matplotlib.pyplot as plt\n",
    "from sklearn import linear_model\n",
    "from pyfinance.ols import OLS, RollingOLS, PandasRollingOLS\n",
    "import pykalman\n",
    "from pykalman import KalmanFilter\n",
    "from scipy.interpolate import splrep, splev\n",
    "import multiprocessing as mp\n",
    "from functools import partial\n",
    "import pickle\n",
    "import warnings\n",
    "warnings.filterwarnings('ignore')\n",
    "\n",
    "import functions_kalman as fk\n",
    "importlib.reload(fk)"
   ]
  },
  {
   "cell_type": "code",
   "execution_count": 50,
   "metadata": {
    "collapsed": true
   },
   "outputs": [],
   "source": [
    "# Use precomputed data or recompute the data\n",
    "use_precomputed = True\n",
    "# Sample set to use if using precomputed data\n",
    "# sample_set = \"20190328-performance_record.pickle\" # Models optimized for weighted accuracy, return_noise = 1.0\n",
    "# sample_set = \"20190329-performance_record-largenoise.pickle\" # Models optimized for weighted accuracy, return_noise = 10.0\n",
    "sample_et = \"20190331-performance_record-opt_mse.pickle\" # Models optimized for MSE, return_noise = 1.0\n",
    "\n",
    "# The number of samples to generate if not using precomputed data\n",
    "num_samples = 10000  \n",
    "# The amplitude of the noise term in the factor model. The higher it is, the fainter the signal associated to the\n",
    "# associated to the factors.\n",
    "return_noise = 1.0\n",
    "# The number of time steps in our experiments\n",
    "timespan = 10000    \n",
    "# Sensitivity type\n",
    "# Random smooth creates random smooth sensitivities using spleens\n",
    "# Random walk creates random walk sensitivities \n",
    "# Various smooth creates sensitivities having interesting shapes: a steady trend, a sudden jump and an oscillation.\n",
    "sens_type = \"Random smooth\" # \"Random walk\" # \"Various smooth\" #\n",
    "\n",
    "# Any prediction in the burn period is ignored when evaluating the performance. This is useful for the exponentially \n",
    "# weighted regression or the Kalman filter, which need some time to produce reasonable predictions. The burn period \n",
    "# is measured in time steps.\n",
    "burn_period = 500"
   ]
  },
  {
   "cell_type": "code",
   "execution_count": 51,
   "metadata": {
    "collapsed": true
   },
   "outputs": [],
   "source": [
    "# Hyperparameters for the various models.\n",
    "if sens_type == \"Random walk\":\n",
    "    # Rolling window for ols regression\n",
    "    rolling_ols_window = 400\n",
    "    # Lambda parameter for exponentially weighted ols regression\n",
    "    exp_rolling_ols_lambda = 0.005\n",
    "    # Transition covariance/observatiaion covariance for the Kalman filter \n",
    "    kalman_covariance_ratio = 0.00002\n",
    "    # \"Momentum\" for the naive trend Kalman filter\n",
    "    nt_factor = 0.5\n",
    "    # Rolling window over which to compute the momentum\n",
    "    nt_window = 100\n",
    "    # Transition covariance/observation covariance for the stochastic trend Kalman filter.\n",
    "    stkf_covariance_ratio = 2e-10\n",
    "elif sens_type == \"Various smooth\":\n",
    "    rolling_ols_window = 200\n",
    "    exp_rolling_ols_lambda = 0.01\n",
    "    kalman_covariance_ratio = 0.0001\n",
    "    stkf_covariance_ratio = 1e-9\n",
    "    nt_factor = 0.5\n",
    "    nt_window = 100\n",
    "elif sens_type == \"Random smooth\":\n",
    "    if return_noise == 1.0:\n",
    "        # Optimal parameters for weighted accuracy\n",
    "        rolling_ols_window = 100\n",
    "        exp_rolling_ols_lambda=0.02 #0.005\n",
    "        kalman_covariance_ratio = 2e-4\n",
    "        stkf_covariance_ratio = 5e-9\n",
    "        nt_factor = 0.5\n",
    "        nt_window = 100\n",
    "        \"\"\"\n",
    "        # Optimal parameters for MSE optimized\n",
    "        rolling_ols_window = 100\n",
    "        exp_rolling_ols_lambda=0.02 #0.005\n",
    "        kalman_covariance_ratio = 5e-4\n",
    "        stkf_covariance_ratio = 1e-8\n",
    "        nt_factor = 0.5\n",
    "        nt_window = 100\n",
    "        \"\"\"\n",
    "    elif return_noise == 10.0:\n",
    "        # Optimal parameters for weighted accuracy\n",
    "        rolling_ols_window = 500\n",
    "        exp_rolling_ols_lambda = 0.002 #0.005\n",
    "        kalman_covariance_ratio = 1e-5\n",
    "        stkf_covariance_ratio = 5e-12\n",
    "        nt_factor = 0.5\n",
    "        nt_window = 500"
   ]
  },
  {
   "cell_type": "code",
   "execution_count": 52,
   "metadata": {},
   "outputs": [],
   "source": [
    "if use_precomputed:\n",
    "    # Loads the precomputed samples\n",
    "    with open(sample_set, 'rb') as f:\n",
    "        ls = pickle.load(f)\n",
    "    performance_record_wacc = ls['Weighted accuracy']\n",
    "    performance_record_mse = ls['MSE'] \n",
    "else:    \n",
    "    # Computes the samples (warning, may take some time...)\n",
    "    algo_parameters = {'rolling_ols_window': rolling_ols_window,\n",
    "                       'exp_rolling_ols_lambda': exp_rolling_ols_lambda,\n",
    "                       'kalman_covariance_ratio': kalman_covariance_ratio,\n",
    "                       'stkf_covariance_ratio': stkf_covariance_ratio,\n",
    "                      }\n",
    "    performance_record_mse, performance_record_wacc = fk.get_performance_data(num_samples, \n",
    "                                                                              sens_type, \n",
    "                                                                              timespan, \n",
    "                                                                              return_noise, \n",
    "                                                                              algo_parameters)"
   ]
  },
  {
   "cell_type": "markdown",
   "metadata": {},
   "source": [
    "## Weighted accuracy"
   ]
  },
  {
   "cell_type": "code",
   "execution_count": 53,
   "metadata": {
    "scrolled": false
   },
   "outputs": [
    {
     "data": {
      "text/html": [
       "<div>\n",
       "<style scoped>\n",
       "    .dataframe tbody tr th:only-of-type {\n",
       "        vertical-align: middle;\n",
       "    }\n",
       "\n",
       "    .dataframe tbody tr th {\n",
       "        vertical-align: top;\n",
       "    }\n",
       "\n",
       "    .dataframe thead th {\n",
       "        text-align: right;\n",
       "    }\n",
       "</style>\n",
       "<table border=\"1\" class=\"dataframe\">\n",
       "  <thead>\n",
       "    <tr style=\"text-align: right;\">\n",
       "      <th></th>\n",
       "      <th>Constant OLS</th>\n",
       "      <th>Exponential rolling OLS</th>\n",
       "      <th>Kalman</th>\n",
       "      <th>Kalman local trend</th>\n",
       "      <th>Oracle</th>\n",
       "      <th>Rolling OLS</th>\n",
       "    </tr>\n",
       "  </thead>\n",
       "  <tbody>\n",
       "    <tr>\n",
       "      <th>count</th>\n",
       "      <td>10000.000000</td>\n",
       "      <td>10000.000000</td>\n",
       "      <td>10000.000000</td>\n",
       "      <td>10000.000000</td>\n",
       "      <td>10000.000000</td>\n",
       "      <td>10000.000000</td>\n",
       "    </tr>\n",
       "    <tr>\n",
       "      <th>mean</th>\n",
       "      <td>0.860735</td>\n",
       "      <td>1.239702</td>\n",
       "      <td>1.249909</td>\n",
       "      <td>1.243806</td>\n",
       "      <td>1.403647</td>\n",
       "      <td>1.238170</td>\n",
       "    </tr>\n",
       "    <tr>\n",
       "      <th>std</th>\n",
       "      <td>0.718984</td>\n",
       "      <td>0.855050</td>\n",
       "      <td>0.878752</td>\n",
       "      <td>0.864088</td>\n",
       "      <td>0.874138</td>\n",
       "      <td>0.882446</td>\n",
       "    </tr>\n",
       "    <tr>\n",
       "      <th>min</th>\n",
       "      <td>-0.303314</td>\n",
       "      <td>-0.020176</td>\n",
       "      <td>-0.088452</td>\n",
       "      <td>-0.054124</td>\n",
       "      <td>0.148235</td>\n",
       "      <td>-0.129129</td>\n",
       "    </tr>\n",
       "    <tr>\n",
       "      <th>25%</th>\n",
       "      <td>0.390408</td>\n",
       "      <td>0.625452</td>\n",
       "      <td>0.614125</td>\n",
       "      <td>0.623899</td>\n",
       "      <td>0.769585</td>\n",
       "      <td>0.602225</td>\n",
       "    </tr>\n",
       "    <tr>\n",
       "      <th>50%</th>\n",
       "      <td>0.619791</td>\n",
       "      <td>0.951791</td>\n",
       "      <td>0.950532</td>\n",
       "      <td>0.950769</td>\n",
       "      <td>1.099690</td>\n",
       "      <td>0.943898</td>\n",
       "    </tr>\n",
       "    <tr>\n",
       "      <th>75%</th>\n",
       "      <td>1.085526</td>\n",
       "      <td>1.612303</td>\n",
       "      <td>1.640519</td>\n",
       "      <td>1.621067</td>\n",
       "      <td>1.793081</td>\n",
       "      <td>1.637162</td>\n",
       "    </tr>\n",
       "    <tr>\n",
       "      <th>max</th>\n",
       "      <td>4.925556</td>\n",
       "      <td>5.136802</td>\n",
       "      <td>5.155475</td>\n",
       "      <td>5.130514</td>\n",
       "      <td>5.461483</td>\n",
       "      <td>5.148405</td>\n",
       "    </tr>\n",
       "  </tbody>\n",
       "</table>\n",
       "</div>"
      ],
      "text/plain": [
       "       Constant OLS  Exponential rolling OLS        Kalman  \\\n",
       "count  10000.000000             10000.000000  10000.000000   \n",
       "mean       0.860735                 1.239702      1.249909   \n",
       "std        0.718984                 0.855050      0.878752   \n",
       "min       -0.303314                -0.020176     -0.088452   \n",
       "25%        0.390408                 0.625452      0.614125   \n",
       "50%        0.619791                 0.951791      0.950532   \n",
       "75%        1.085526                 1.612303      1.640519   \n",
       "max        4.925556                 5.136802      5.155475   \n",
       "\n",
       "       Kalman local trend        Oracle   Rolling OLS  \n",
       "count        10000.000000  10000.000000  10000.000000  \n",
       "mean             1.243806      1.403647      1.238170  \n",
       "std              0.864088      0.874138      0.882446  \n",
       "min             -0.054124      0.148235     -0.129129  \n",
       "25%              0.623899      0.769585      0.602225  \n",
       "50%              0.950769      1.099690      0.943898  \n",
       "75%              1.621067      1.793081      1.637162  \n",
       "max              5.130514      5.461483      5.148405  "
      ]
     },
     "execution_count": 53,
     "metadata": {},
     "output_type": "execute_result"
    }
   ],
   "source": [
    "# Statistics of the weighted accuracy by model\n",
    "performance_record_wacc.describe()"
   ]
  },
  {
   "cell_type": "code",
   "execution_count": 54,
   "metadata": {},
   "outputs": [
    {
     "data": {
      "image/png": "[encoded data removed]",
      "text/plain": [
       "<matplotlib.figure.Figure at 0x2f531cf8>"
      ]
     },
     "metadata": {},
     "output_type": "display_data"
    }
   ],
   "source": [
    "# Distribution of the weighted accuracies by model\n",
    "axes = performance_record_wacc.iloc[:,0:].hist(bins=200, sharex=True, sharey=True, figsize=(12,8))"
   ]
  },
  {
   "cell_type": "code",
   "execution_count": 55,
   "metadata": {},
   "outputs": [
    {
     "data": {
      "text/html": [
       "<div>\n",
       "<style scoped>\n",
       "    .dataframe tbody tr th:only-of-type {\n",
       "        vertical-align: middle;\n",
       "    }\n",
       "\n",
       "    .dataframe tbody tr th {\n",
       "        vertical-align: top;\n",
       "    }\n",
       "\n",
       "    .dataframe thead th {\n",
       "        text-align: right;\n",
       "    }\n",
       "</style>\n",
       "<table border=\"1\" class=\"dataframe\">\n",
       "  <thead>\n",
       "    <tr style=\"text-align: right;\">\n",
       "      <th></th>\n",
       "      <th>Weighted accuracy</th>\n",
       "      <th>t-test differential p-value</th>\n",
       "      <th>Wilcoxon test differential p-value</th>\n",
       "    </tr>\n",
       "  </thead>\n",
       "  <tbody>\n",
       "    <tr>\n",
       "      <th>Oracle</th>\n",
       "      <td>1.403647</td>\n",
       "      <td>0.000000e+00</td>\n",
       "      <td>0.000000e+00</td>\n",
       "    </tr>\n",
       "    <tr>\n",
       "      <th>Kalman</th>\n",
       "      <td>1.249909</td>\n",
       "      <td>1.087537e-18</td>\n",
       "      <td>4.148251e-06</td>\n",
       "    </tr>\n",
       "    <tr>\n",
       "      <th>Kalman local trend</th>\n",
       "      <td>1.243806</td>\n",
       "      <td>2.058902e-11</td>\n",
       "      <td>2.699031e-11</td>\n",
       "    </tr>\n",
       "    <tr>\n",
       "      <th>Exponential rolling OLS</th>\n",
       "      <td>1.239702</td>\n",
       "      <td>4.373699e-02</td>\n",
       "      <td>2.993450e-05</td>\n",
       "    </tr>\n",
       "    <tr>\n",
       "      <th>Rolling OLS</th>\n",
       "      <td>1.238170</td>\n",
       "      <td>0.000000e+00</td>\n",
       "      <td>0.000000e+00</td>\n",
       "    </tr>\n",
       "    <tr>\n",
       "      <th>Constant OLS</th>\n",
       "      <td>0.860735</td>\n",
       "      <td>NaN</td>\n",
       "      <td>NaN</td>\n",
       "    </tr>\n",
       "  </tbody>\n",
       "</table>\n",
       "</div>"
      ],
      "text/plain": [
       "                         Weighted accuracy  t-test differential p-value  \\\n",
       "Oracle                            1.403647                 0.000000e+00   \n",
       "Kalman                            1.249909                 1.087537e-18   \n",
       "Kalman local trend                1.243806                 2.058902e-11   \n",
       "Exponential rolling OLS           1.239702                 4.373699e-02   \n",
       "Rolling OLS                       1.238170                 0.000000e+00   \n",
       "Constant OLS                      0.860735                          NaN   \n",
       "\n",
       "                         Wilcoxon test differential p-value  \n",
       "Oracle                                         0.000000e+00  \n",
       "Kalman                                         4.148251e-06  \n",
       "Kalman local trend                             2.699031e-11  \n",
       "Exponential rolling OLS                        2.993450e-05  \n",
       "Rolling OLS                                    0.000000e+00  \n",
       "Constant OLS                                            NaN  "
      ]
     },
     "execution_count": 55,
     "metadata": {},
     "output_type": "execute_result"
    },
    {
     "data": {
      "image/png": "[encoded data removed]",
      "text/plain": [
       "<matplotlib.figure.Figure at 0x2df2c0b8>"
      ]
     },
     "metadata": {},
     "output_type": "display_data"
    }
   ],
   "source": [
    "# Performance record for weighted accuracy\n",
    "fk.performance_summary(performance_record_wacc, \"Weighted accuracy\")"
   ]
  },
  {
   "cell_type": "code",
   "execution_count": 56,
   "metadata": {},
   "outputs": [
    {
     "data": {
      "image/png": "[encoded data removed]",
      "text/plain": [
       "<matplotlib.figure.Figure at 0x2e51c390>"
      ]
     },
     "metadata": {},
     "output_type": "display_data"
    }
   ],
   "source": [
    "# Distribution of the performance difference with respect to Oracle\n",
    "fk.plot_perf_differences(performance_record_wacc.iloc[:,1:], reference='Oracle')"
   ]
  },
  {
   "cell_type": "markdown",
   "metadata": {},
   "source": [
    "## Mean square error (MSE)"
   ]
  },
  {
   "cell_type": "code",
   "execution_count": 57,
   "metadata": {},
   "outputs": [
    {
     "data": {
      "text/html": [
       "<div>\n",
       "<style scoped>\n",
       "    .dataframe tbody tr th:only-of-type {\n",
       "        vertical-align: middle;\n",
       "    }\n",
       "\n",
       "    .dataframe tbody tr th {\n",
       "        vertical-align: top;\n",
       "    }\n",
       "\n",
       "    .dataframe thead th {\n",
       "        text-align: right;\n",
       "    }\n",
       "</style>\n",
       "<table border=\"1\" class=\"dataframe\">\n",
       "  <thead>\n",
       "    <tr style=\"text-align: right;\">\n",
       "      <th></th>\n",
       "      <th>Constant OLS</th>\n",
       "      <th>Exponential rolling OLS</th>\n",
       "      <th>Kalman</th>\n",
       "      <th>Kalman local trend</th>\n",
       "      <th>Oracle</th>\n",
       "      <th>Rolling OLS</th>\n",
       "    </tr>\n",
       "  </thead>\n",
       "  <tbody>\n",
       "    <tr>\n",
       "      <th>count</th>\n",
       "      <td>10000.000000</td>\n",
       "      <td>10000.000000</td>\n",
       "      <td>10000.000000</td>\n",
       "      <td>10000.000000</td>\n",
       "      <td>10000.000000</td>\n",
       "      <td>10000.000000</td>\n",
       "    </tr>\n",
       "    <tr>\n",
       "      <th>mean</th>\n",
       "      <td>103.414522</td>\n",
       "      <td>100.949899</td>\n",
       "      <td>100.842427</td>\n",
       "      <td>101.192861</td>\n",
       "      <td>99.988142</td>\n",
       "      <td>100.946679</td>\n",
       "    </tr>\n",
       "    <tr>\n",
       "      <th>std</th>\n",
       "      <td>4.411445</td>\n",
       "      <td>1.789350</td>\n",
       "      <td>1.627847</td>\n",
       "      <td>1.883199</td>\n",
       "      <td>1.498030</td>\n",
       "      <td>1.648022</td>\n",
       "    </tr>\n",
       "    <tr>\n",
       "      <th>min</th>\n",
       "      <td>94.330803</td>\n",
       "      <td>94.447724</td>\n",
       "      <td>94.556827</td>\n",
       "      <td>94.715954</td>\n",
       "      <td>94.001786</td>\n",
       "      <td>94.560811</td>\n",
       "    </tr>\n",
       "    <tr>\n",
       "      <th>25%</th>\n",
       "      <td>100.620529</td>\n",
       "      <td>99.761004</td>\n",
       "      <td>99.755111</td>\n",
       "      <td>99.972016</td>\n",
       "      <td>98.980425</td>\n",
       "      <td>99.854848</td>\n",
       "    </tr>\n",
       "    <tr>\n",
       "      <th>50%</th>\n",
       "      <td>102.232842</td>\n",
       "      <td>100.845815</td>\n",
       "      <td>100.799541</td>\n",
       "      <td>101.053513</td>\n",
       "      <td>99.988688</td>\n",
       "      <td>100.896308</td>\n",
       "    </tr>\n",
       "    <tr>\n",
       "      <th>75%</th>\n",
       "      <td>104.941555</td>\n",
       "      <td>101.983303</td>\n",
       "      <td>101.853952</td>\n",
       "      <td>102.217481</td>\n",
       "      <td>100.997520</td>\n",
       "      <td>101.955016</td>\n",
       "    </tr>\n",
       "    <tr>\n",
       "      <th>max</th>\n",
       "      <td>145.407558</td>\n",
       "      <td>111.934397</td>\n",
       "      <td>109.195298</td>\n",
       "      <td>114.290029</td>\n",
       "      <td>105.118220</td>\n",
       "      <td>110.638333</td>\n",
       "    </tr>\n",
       "  </tbody>\n",
       "</table>\n",
       "</div>"
      ],
      "text/plain": [
       "       Constant OLS  Exponential rolling OLS        Kalman  \\\n",
       "count  10000.000000             10000.000000  10000.000000   \n",
       "mean     103.414522               100.949899    100.842427   \n",
       "std        4.411445                 1.789350      1.627847   \n",
       "min       94.330803                94.447724     94.556827   \n",
       "25%      100.620529                99.761004     99.755111   \n",
       "50%      102.232842               100.845815    100.799541   \n",
       "75%      104.941555               101.983303    101.853952   \n",
       "max      145.407558               111.934397    109.195298   \n",
       "\n",
       "       Kalman local trend        Oracle   Rolling OLS  \n",
       "count        10000.000000  10000.000000  10000.000000  \n",
       "mean           101.192861     99.988142    100.946679  \n",
       "std              1.883199      1.498030      1.648022  \n",
       "min             94.715954     94.001786     94.560811  \n",
       "25%             99.972016     98.980425     99.854848  \n",
       "50%            101.053513     99.988688    100.896308  \n",
       "75%            102.217481    100.997520    101.955016  \n",
       "max            114.290029    105.118220    110.638333  "
      ]
     },
     "execution_count": 57,
     "metadata": {},
     "output_type": "execute_result"
    }
   ],
   "source": [
    "# Statistics of the MSE by model\n",
    "performance_record_mse.describe()"
   ]
  },
  {
   "cell_type": "code",
   "execution_count": 58,
   "metadata": {},
   "outputs": [
    {
     "data": {
      "text/html": [
       "<div>\n",
       "<style scoped>\n",
       "    .dataframe tbody tr th:only-of-type {\n",
       "        vertical-align: middle;\n",
       "    }\n",
       "\n",
       "    .dataframe tbody tr th {\n",
       "        vertical-align: top;\n",
       "    }\n",
       "\n",
       "    .dataframe thead th {\n",
       "        text-align: right;\n",
       "    }\n",
       "</style>\n",
       "<table border=\"1\" class=\"dataframe\">\n",
       "  <thead>\n",
       "    <tr style=\"text-align: right;\">\n",
       "      <th></th>\n",
       "      <th>MSE</th>\n",
       "      <th>t-test differential p-value</th>\n",
       "      <th>Wilcoxon test differential p-value</th>\n",
       "    </tr>\n",
       "  </thead>\n",
       "  <tbody>\n",
       "    <tr>\n",
       "      <th>Oracle</th>\n",
       "      <td>99.988142</td>\n",
       "      <td>0.000000</td>\n",
       "      <td>0.000000e+00</td>\n",
       "    </tr>\n",
       "    <tr>\n",
       "      <th>Kalman</th>\n",
       "      <td>100.842427</td>\n",
       "      <td>0.000000</td>\n",
       "      <td>0.000000e+00</td>\n",
       "    </tr>\n",
       "    <tr>\n",
       "      <th>Rolling OLS</th>\n",
       "      <td>100.946679</td>\n",
       "      <td>0.399864</td>\n",
       "      <td>1.911243e-99</td>\n",
       "    </tr>\n",
       "    <tr>\n",
       "      <th>Exponential rolling OLS</th>\n",
       "      <td>100.949899</td>\n",
       "      <td>0.000000</td>\n",
       "      <td>0.000000e+00</td>\n",
       "    </tr>\n",
       "    <tr>\n",
       "      <th>Kalman local trend</th>\n",
       "      <td>101.192861</td>\n",
       "      <td>0.000000</td>\n",
       "      <td>0.000000e+00</td>\n",
       "    </tr>\n",
       "    <tr>\n",
       "      <th>Constant OLS</th>\n",
       "      <td>103.414522</td>\n",
       "      <td>NaN</td>\n",
       "      <td>NaN</td>\n",
       "    </tr>\n",
       "  </tbody>\n",
       "</table>\n",
       "</div>"
      ],
      "text/plain": [
       "                                MSE  t-test differential p-value  \\\n",
       "Oracle                    99.988142                     0.000000   \n",
       "Kalman                   100.842427                     0.000000   \n",
       "Rolling OLS              100.946679                     0.399864   \n",
       "Exponential rolling OLS  100.949899                     0.000000   \n",
       "Kalman local trend       101.192861                     0.000000   \n",
       "Constant OLS             103.414522                          NaN   \n",
       "\n",
       "                         Wilcoxon test differential p-value  \n",
       "Oracle                                         0.000000e+00  \n",
       "Kalman                                         0.000000e+00  \n",
       "Rolling OLS                                    1.911243e-99  \n",
       "Exponential rolling OLS                        0.000000e+00  \n",
       "Kalman local trend                             0.000000e+00  \n",
       "Constant OLS                                            NaN  "
      ]
     },
     "execution_count": 58,
     "metadata": {},
     "output_type": "execute_result"
    },
    {
     "data": {
      "image/png": "[encoded data removed]",
      "text/plain": [
       "<matplotlib.figure.Figure at 0x2f607518>"
      ]
     },
     "metadata": {},
     "output_type": "display_data"
    }
   ],
   "source": [
    "fk.performance_summary(performance_record_mse, \"MSE\")"
   ]
  },
  {
   "cell_type": "markdown",
   "metadata": {},
   "source": [
    "## Save data"
   ]
  },
  {
   "cell_type": "code",
   "execution_count": 48,
   "metadata": {
    "collapsed": true
   },
   "outputs": [],
   "source": [
    "import pickle\n",
    "with open('filename.pickle', 'wb') as f:\n",
    "    pickle.dump({\"Weighted accuracy\": performance_record_wacc, \"MSE\": performance_record_mse}, f)"
   ]
  },
  {
   "cell_type": "code",
   "execution_count": 49,
   "metadata": {
    "collapsed": true
   },
   "outputs": [],
   "source": [
    "with open('filename.pickle', 'rb') as f:\n",
    "    ls = pickle.load(f)\n",
    "performance_record_wacc = ls['Weighted accuracy']\n",
    "performance_record_mse = ls['MSE'] "
   ]
  },
  {
   "cell_type": "code",
   "execution_count": null,
   "metadata": {
    "collapsed": true
   },
   "outputs": [],
   "source": []
  }
 ],
 "metadata": {
  "kernelspec": {
   "display_name": "Python [conda env:python3]",
   "language": "python",
   "name": "conda-env-python3-py"
  },
  "language_info": {
   "codemirror_mode": {
    "name": "ipython",
    "version": 3
   },
   "file_extension": ".py",
   "mimetype": "text/x-python",
   "name": "python",
   "nbconvert_exporter": "python",
   "pygments_lexer": "ipython3",
   "version": "3.6.1"
  }
 },
 "nbformat": 4,
 "nbformat_minor": 2
}
